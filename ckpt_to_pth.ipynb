{
 "cells": [
  {
   "cell_type": "code",
   "execution_count": 4,
   "metadata": {},
   "outputs": [],
   "source": [
    "import torch\n",
    "\n",
    "# 1. PyTorch Lightningのチェックポイントファイル(.ckpt)を読み込む\n",
    "ckpt_path = \"log/2024-10-22_11:23:27_lr0.06_bs(128x-1-ac1)/epoch0_step3522_acc=49.60.ckpt\"\n",
    "pth_path = \"pth/clip_places365_1.pth\""
   ]
  },
  {
   "cell_type": "code",
   "execution_count": 5,
   "metadata": {},
   "outputs": [
    {
     "name": "stderr",
     "output_type": "stream",
     "text": [
      "/tmp/ipykernel_1571645/60650652.py:1: FutureWarning: You are using `torch.load` with `weights_only=False` (the current default value), which uses the default pickle module implicitly. It is possible to construct malicious pickle data which will execute arbitrary code during unpickling (See https://github.com/pytorch/pytorch/blob/main/SECURITY.md#untrusted-models for more details). In a future release, the default value for `weights_only` will be flipped to `True`. This limits the functions that could be executed during unpickling. Arbitrary objects will no longer be allowed to be loaded via this mode unless they are explicitly allowlisted by the user via `torch.serialization.add_safe_globals`. We recommend you start setting `weights_only=True` for any use case where you don't have full control of the loaded file. Please open an issue on GitHub for any issues related to this experimental feature.\n",
      "  checkpoint = torch.load(ckpt_path)\n"
     ]
    },
    {
     "name": "stdout",
     "output_type": "stream",
     "text": [
      "State_dict has been saved to pth/clip_places365_1.pth\n"
     ]
    }
   ],
   "source": [
    "checkpoint = torch.load(ckpt_path)\n",
    "\n",
    "# 2. 'state_dict' 部分だけを取り出す\n",
    "state_dict = checkpoint['state_dict']\n",
    "\n",
    "\n",
    "# 3. \"model.\" プレフィックスを削除する\n",
    "new_state_dict = {}\n",
    "for key, value in state_dict.items():\n",
    "    # \"model.\" を削除したキーを作成\n",
    "    new_key = key.replace(\"model.\", \"\", 1)\n",
    "    new_state_dict[new_key] = value\n",
    "\n",
    "# 3. PyTorchの .pth ファイルとして保存する\n",
    "torch.save(new_state_dict, pth_path)\n",
    "\n",
    "print(f\"State_dict has been saved to {pth_path}\")"
   ]
  },
  {
   "cell_type": "code",
   "execution_count": null,
   "metadata": {},
   "outputs": [],
   "source": []
  }
 ],
 "metadata": {
  "kernelspec": {
   "display_name": "finer_vit",
   "language": "python",
   "name": "python3"
  },
  "language_info": {
   "codemirror_mode": {
    "name": "ipython",
    "version": 3
   },
   "file_extension": ".py",
   "mimetype": "text/x-python",
   "name": "python",
   "nbconvert_exporter": "python",
   "pygments_lexer": "ipython3",
   "version": "3.12.5"
  }
 },
 "nbformat": 4,
 "nbformat_minor": 2
}

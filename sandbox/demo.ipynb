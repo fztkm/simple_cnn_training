{
 "cells": [
  {
   "cell_type": "code",
   "execution_count": null,
   "metadata": {},
   "outputs": [],
   "source": [
    "import os\n",
    "# 変更したいディレクトリのパスを指定\n",
    "new_path = '../../'\n",
    "# 実行パスを変更\n",
    "os.chdir(new_path)\n",
    "print(\"Current working directory:\", os.getcwd())"
   ]
  }
 ],
 "metadata": {
  "language_info": {
   "name": "python"
  }
 },
 "nbformat": 4,
 "nbformat_minor": 2
}
